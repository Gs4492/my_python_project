{
 "cells": [
  {
   "cell_type": "code",
   "execution_count": 1,
   "id": "5fca6fef",
   "metadata": {},
   "outputs": [],
   "source": [
    "import pandas as pd"
   ]
  },
  {
   "cell_type": "code",
   "execution_count": 2,
   "id": "8a06e53e",
   "metadata": {},
   "outputs": [
    {
     "name": "stdout",
     "output_type": "stream",
     "text": [
      "0    10\n",
      "1    20\n",
      "2    30\n",
      "3    40\n",
      "dtype: int64\n"
     ]
    }
   ],
   "source": [
    "data = [10, 20, 30, 40]\n",
    "ser = pd.Series(data)\n",
    "print(ser)"
   ]
  },
  {
   "cell_type": "code",
   "execution_count": 3,
   "id": "f8590487",
   "metadata": {},
   "outputs": [
    {
     "name": "stdout",
     "output_type": "stream",
     "text": [
      "    Name  Age\n",
      "0   Amit   25\n",
      "1  Priya   30\n",
      "2    Raj   28\n"
     ]
    }
   ],
   "source": [
    "data = {\n",
    "    \"Name\": [\"Amit\", \"Priya\", \"Raj\"],\n",
    "    \"Age\": [25, 30, 28]\n",
    "}\n",
    "\n",
    "df = pd.DataFrame(data)\n",
    "print(df)"
   ]
  },
  {
   "cell_type": "code",
   "execution_count": 4,
   "id": "1165f4c1",
   "metadata": {},
   "outputs": [
    {
     "name": "stdout",
     "output_type": "stream",
     "text": [
      "  Student  Maths  Science  English\n",
      "0    John     76       72       78\n",
      "1     Bob     66       52       88\n",
      "2    Marc     78       82       98\n"
     ]
    }
   ],
   "source": [
    "stu = {\n",
    "    \"Student\": [\"John\", \"Bob\", \"Marc\"],\n",
    "    \"Maths\": [76, 66, 78],\n",
    "    \"Science\": [72, 52, 82],\n",
    "    \"English\": [78, 88, 98]\n",
    "}\n",
    "df = pd.DataFrame(stu)\n",
    "print(df)"
   ]
  },
  {
   "cell_type": "code",
   "execution_count": 5,
   "id": "252e062f",
   "metadata": {},
   "outputs": [
    {
     "name": "stdout",
     "output_type": "stream",
     "text": [
      "  Student  Maths  Science  English\n",
      "0    John     76       72       78\n",
      "1     Bob     66       52       88\n",
      "<class 'pandas.core.frame.DataFrame'>\n",
      "RangeIndex: 3 entries, 0 to 2\n",
      "Data columns (total 4 columns):\n",
      " #   Column   Non-Null Count  Dtype \n",
      "---  ------   --------------  ----- \n",
      " 0   Student  3 non-null      object\n",
      " 1   Maths    3 non-null      int64 \n",
      " 2   Science  3 non-null      int64 \n",
      " 3   English  3 non-null      int64 \n",
      "dtypes: int64(3), object(1)\n",
      "memory usage: 228.0+ bytes\n"
     ]
    },
    {
     "data": {
      "text/html": [
       "<div>\n",
       "<style scoped>\n",
       "    .dataframe tbody tr th:only-of-type {\n",
       "        vertical-align: middle;\n",
       "    }\n",
       "\n",
       "    .dataframe tbody tr th {\n",
       "        vertical-align: top;\n",
       "    }\n",
       "\n",
       "    .dataframe thead th {\n",
       "        text-align: right;\n",
       "    }\n",
       "</style>\n",
       "<table border=\"1\" class=\"dataframe\">\n",
       "  <thead>\n",
       "    <tr style=\"text-align: right;\">\n",
       "      <th></th>\n",
       "      <th>Maths</th>\n",
       "      <th>Science</th>\n",
       "      <th>English</th>\n",
       "    </tr>\n",
       "  </thead>\n",
       "  <tbody>\n",
       "    <tr>\n",
       "      <th>count</th>\n",
       "      <td>3.000000</td>\n",
       "      <td>3.000000</td>\n",
       "      <td>3.0</td>\n",
       "    </tr>\n",
       "    <tr>\n",
       "      <th>mean</th>\n",
       "      <td>73.333333</td>\n",
       "      <td>68.666667</td>\n",
       "      <td>88.0</td>\n",
       "    </tr>\n",
       "    <tr>\n",
       "      <th>std</th>\n",
       "      <td>6.429101</td>\n",
       "      <td>15.275252</td>\n",
       "      <td>10.0</td>\n",
       "    </tr>\n",
       "    <tr>\n",
       "      <th>min</th>\n",
       "      <td>66.000000</td>\n",
       "      <td>52.000000</td>\n",
       "      <td>78.0</td>\n",
       "    </tr>\n",
       "    <tr>\n",
       "      <th>25%</th>\n",
       "      <td>71.000000</td>\n",
       "      <td>62.000000</td>\n",
       "      <td>83.0</td>\n",
       "    </tr>\n",
       "    <tr>\n",
       "      <th>50%</th>\n",
       "      <td>76.000000</td>\n",
       "      <td>72.000000</td>\n",
       "      <td>88.0</td>\n",
       "    </tr>\n",
       "    <tr>\n",
       "      <th>75%</th>\n",
       "      <td>77.000000</td>\n",
       "      <td>77.000000</td>\n",
       "      <td>93.0</td>\n",
       "    </tr>\n",
       "    <tr>\n",
       "      <th>max</th>\n",
       "      <td>78.000000</td>\n",
       "      <td>82.000000</td>\n",
       "      <td>98.0</td>\n",
       "    </tr>\n",
       "  </tbody>\n",
       "</table>\n",
       "</div>"
      ],
      "text/plain": [
       "           Maths    Science  English\n",
       "count   3.000000   3.000000      3.0\n",
       "mean   73.333333  68.666667     88.0\n",
       "std     6.429101  15.275252     10.0\n",
       "min    66.000000  52.000000     78.0\n",
       "25%    71.000000  62.000000     83.0\n",
       "50%    76.000000  72.000000     88.0\n",
       "75%    77.000000  77.000000     93.0\n",
       "max    78.000000  82.000000     98.0"
      ]
     },
     "execution_count": 5,
     "metadata": {},
     "output_type": "execute_result"
    }
   ],
   "source": [
    "# Use the student marks DataFrame from the previous project.\n",
    "# First 2 rows display karo (head() use karke).\n",
    "# Data ke structure aur data types ko check karo (info()).\n",
    "# Marks ka statistical summary nikal ke print karo (describe()).\n",
    "\n",
    "print(df.head(2))\n",
    "\n",
    "df.info()\n",
    "\n",
    "df.describe()"
   ]
  },
  {
   "cell_type": "code",
   "execution_count": 6,
   "id": "387943be",
   "metadata": {},
   "outputs": [
    {
     "name": "stdout",
     "output_type": "stream",
     "text": [
      "   Student  Maths  Science  English\n",
      "0    False  False    False    False\n",
      "1    False  False     True    False\n",
      "2    False   True    False    False\n",
      "\n",
      "Missing values count per column:\n",
      "Student    0\n",
      "Maths      1\n",
      "Science    1\n",
      "English    0\n",
      "dtype: int64\n",
      "\n",
      "Data after dropping missing values:\n",
      "  Student  Maths  Science  English\n",
      "0    John   76.0     72.0       78\n",
      "\n",
      "Data after filling missing values with 0:\n",
      "  Student  Maths  Science  English\n",
      "0    John   76.0     72.0       78\n",
      "1     Bob   66.0      0.0       88\n",
      "2    Marc    0.0     82.0       98\n"
     ]
    },
    {
     "data": {
      "text/html": [
       "<div>\n",
       "<style scoped>\n",
       "    .dataframe tbody tr th:only-of-type {\n",
       "        vertical-align: middle;\n",
       "    }\n",
       "\n",
       "    .dataframe tbody tr th {\n",
       "        vertical-align: top;\n",
       "    }\n",
       "\n",
       "    .dataframe thead th {\n",
       "        text-align: right;\n",
       "    }\n",
       "</style>\n",
       "<table border=\"1\" class=\"dataframe\">\n",
       "  <thead>\n",
       "    <tr style=\"text-align: right;\">\n",
       "      <th></th>\n",
       "      <th>Student</th>\n",
       "      <th>Maths</th>\n",
       "      <th>Science</th>\n",
       "      <th>English</th>\n",
       "    </tr>\n",
       "  </thead>\n",
       "  <tbody>\n",
       "    <tr>\n",
       "      <th>0</th>\n",
       "      <td>John</td>\n",
       "      <td>76.0</td>\n",
       "      <td>72.0</td>\n",
       "      <td>78</td>\n",
       "    </tr>\n",
       "    <tr>\n",
       "      <th>1</th>\n",
       "      <td>Bob</td>\n",
       "      <td>66.0</td>\n",
       "      <td>0.0</td>\n",
       "      <td>88</td>\n",
       "    </tr>\n",
       "    <tr>\n",
       "      <th>2</th>\n",
       "      <td>Marc</td>\n",
       "      <td>0.0</td>\n",
       "      <td>82.0</td>\n",
       "      <td>98</td>\n",
       "    </tr>\n",
       "  </tbody>\n",
       "</table>\n",
       "</div>"
      ],
      "text/plain": [
       "  Student  Maths  Science  English\n",
       "0    John   76.0     72.0       78\n",
       "1     Bob   66.0      0.0       88\n",
       "2    Marc    0.0     82.0       98"
      ]
     },
     "execution_count": 6,
     "metadata": {},
     "output_type": "execute_result"
    }
   ],
   "source": [
    "data = {\n",
    "    \"Student\": [\"John\", \"Bob\", \"Marc\"],\n",
    "    \"Maths\": [76, 66, None],  # None = Missing value\n",
    "    \"Science\": [72, None, 82],\n",
    "    \"English\": [78, 88, 98]\n",
    "}\n",
    "\n",
    "df = pd.DataFrame(data)\n",
    "\n",
    "print(df.isnull())\n",
    "print(\"\\nMissing values count per column:\")\n",
    "print(df.isnull().sum())\n",
    "\n",
    "df_dropped = df.dropna()\n",
    "print(\"\\nData after dropping missing values:\")\n",
    "print(df_dropped)\n",
    "\n",
    "df_fill = df.fillna(0)\n",
    "print(\"\\nData after filling missing values with 0:\")\n",
    "print(df_fill)\n",
    "df_fill"
   ]
  },
  {
   "cell_type": "code",
   "execution_count": 7,
   "id": "5d64e2ae",
   "metadata": {},
   "outputs": [
    {
     "name": "stdout",
     "output_type": "stream",
     "text": [
      "\n",
      "Duplicate rows:\n",
      "0    False\n",
      "1    False\n",
      "2     True\n",
      "dtype: bool\n",
      "\n",
      "Data after removing duplicates:\n",
      "  Student  Maths  Science  English\n",
      "0    John     76       72       78\n",
      "1     Bob     66       52       88\n"
     ]
    }
   ],
   "source": [
    "data_with_duplicates = {\n",
    "    \"Student\": [\"John\", \"Bob\", \"John\"],\n",
    "    \"Maths\": [76, 66, 76],\n",
    "    \"Science\": [72, 52, 72],\n",
    "    \"English\": [78, 88, 78]\n",
    "}\n",
    "\n",
    "df_dup = pd.DataFrame(data_with_duplicates)\n",
    "\n",
    "print(\"\\nDuplicate rows:\")\n",
    "print(df_dup.duplicated())\n",
    "\n",
    "df_no_dup = df_dup.drop_duplicates()\n",
    "print(\"\\nData after removing duplicates:\")\n",
    "print(df_no_dup)"
   ]
  },
  {
   "cell_type": "code",
   "execution_count": 8,
   "id": "c77b918d",
   "metadata": {},
   "outputs": [],
   "source": [
    "# Create a DataFrame with some missing values in the student marks data.\n",
    "# Count the missing values for each column.\n",
    "# Remove rows with missing values.\n",
    "# Replace missing values with 0.\n",
    "# Create another DataFrame with duplicate rows and remove duplicates."
   ]
  },
  {
   "cell_type": "code",
   "execution_count": 9,
   "id": "5a1fd9f8",
   "metadata": {},
   "outputs": [
    {
     "name": "stdout",
     "output_type": "stream",
     "text": [
      "  Student  Maths  Science  English\n",
      "0    John   76.0       72     78.0\n",
      "1     Bob    0.0       52     88.0\n",
      "2    John   76.0       72      0.0\n"
     ]
    }
   ],
   "source": [
    "d_p = {\n",
    "    \"Student\": [\"John\", \"Bob\", \"John\"],\n",
    "    \"Maths\": [76, None, 76],\n",
    "    \"Science\": [72, 52, 72],\n",
    "    \"English\": [78, 88, None]\n",
    "}\n",
    "\n",
    "d_practice = pd.DataFrame(d_p)\n",
    "\n",
    "#print(d_practice.isnull().sum())\n",
    "\n",
    "# drop_null = d_practice.dropna()\n",
    "# print(drop_null)\n",
    "\n",
    "fill_null = d_practice.fillna(0)\n",
    "print(fill_null)"
   ]
  },
  {
   "cell_type": "code",
   "execution_count": 10,
   "id": "ed0abfdc",
   "metadata": {},
   "outputs": [
    {
     "name": "stdout",
     "output_type": "stream",
     "text": [
      "\n",
      "Duplicate rows:\n",
      "0    False\n",
      "1    False\n",
      "2     True\n",
      "dtype: bool\n",
      "  Student  Maths  Science  English\n",
      "0    John     76       72       78\n",
      "1     Bob     66       52       88\n"
     ]
    }
   ],
   "source": [
    "data_duplicates = {\n",
    "    \"Student\": [\"John\", \"Bob\", \"John\"],\n",
    "    \"Maths\": [76, 66, 76],\n",
    "    \"Science\": [72, 52, 72],\n",
    "    \"English\": [78, 88, 78]\n",
    "}\n",
    "\n",
    "drop_d = pd.DataFrame(data_duplicates)\n",
    "\n",
    "print(\"\\nDuplicate rows:\")\n",
    "print(drop_d.duplicated())\n",
    "\n",
    "print(drop_d.drop_duplicates())\n"
   ]
  },
  {
   "cell_type": "code",
   "execution_count": 11,
   "id": "1ee709c1",
   "metadata": {},
   "outputs": [
    {
     "name": "stdout",
     "output_type": "stream",
     "text": [
      "  Student  Maths  Science  English\n",
      "1     Bob   66.0      NaN       88\n"
     ]
    }
   ],
   "source": [
    "fil_data = {\n",
    "    \"Student\": [\"John\", \"Bob\", \"John\"],\n",
    "    \"Maths\": [76, 66, 76],\n",
    "    \"Science\": [72, 52, 72],\n",
    "    \"English\": [78, 88, 78]\n",
    "}\n",
    "\n",
    "filt_data = pd.DataFrame(fil_data)\n",
    "\n",
    "df_filt = df[df[\"Maths\"] < 70]\n",
    "print(df_filt)"
   ]
  },
  {
   "cell_type": "code",
   "execution_count": 12,
   "id": "acea1677",
   "metadata": {},
   "outputs": [],
   "source": [
    "# Filter: Un students ko filter karo jinka Science ka score 80 se zyada hai.\n",
    "# Sort: Students ko Maths ke scores ke basis pe descending order me sort karo.\n",
    "# Group: Group karo, aur average Maths aur Science score nikaalo.\n",
    "\n"
   ]
  },
  {
   "cell_type": "code",
   "execution_count": 19,
   "id": "755b6bba",
   "metadata": {},
   "outputs": [
    {
     "name": "stdout",
     "output_type": "stream",
     "text": [
      "  Student  Maths  Science  English\n",
      "2    Marc    NaN     82.0       98\n",
      "         Maths  Science\n",
      "Student                \n",
      "Bob       66.0      NaN\n",
      "John      76.0     72.0\n",
      "Marc       NaN     82.0\n"
     ]
    }
   ],
   "source": [
    "filt_score = df[df[\"Science\"] > 80]\n",
    "print(filt_score)\n",
    "\n",
    "d_s = df.sort_values(by='Maths', ascending=False)\n",
    "d_s\n",
    "\n",
    "d_g = df.groupby(\"Student\")[[\"Maths\",\"Science\"]].mean()\n",
    "print(d_g)"
   ]
  },
  {
   "cell_type": "code",
   "execution_count": 15,
   "id": "a8385c9e",
   "metadata": {},
   "outputs": [
    {
     "name": "stdout",
     "output_type": "stream",
     "text": [
      "Mean Scores for Each Subject:\n",
      "Maths      71.0\n",
      "Science    77.0\n",
      "English    88.0\n",
      "dtype: float64\n"
     ]
    }
   ],
   "source": [
    "mean_scores = df[[\"Maths\",\"Science\",\"English\"]].mean()\n",
    "print(\"Mean Scores for Each Subject:\")\n",
    "print(mean_scores)"
   ]
  },
  {
   "cell_type": "code",
   "execution_count": 16,
   "id": "fb422103",
   "metadata": {},
   "outputs": [
    {
     "name": "stdout",
     "output_type": "stream",
     "text": [
      "142.0\n"
     ]
    }
   ],
   "source": [
    "maths_total = df[\"Maths\"].sum()\n",
    "print(maths_total)"
   ]
  },
  {
   "cell_type": "code",
   "execution_count": 20,
   "id": "a7586455",
   "metadata": {},
   "outputs": [
    {
     "name": "stdout",
     "output_type": "stream",
     "text": [
      "         Maths  Science  English\n",
      "Student                         \n",
      "Bob       66.0      NaN     88.0\n",
      "John      76.0     72.0     78.0\n",
      "Marc       NaN     82.0     98.0\n"
     ]
    }
   ],
   "source": [
    "grouping = df.groupby(\"Student\")[[\"Maths\",\"Science\",\"English\"]].mean()\n",
    "print(grouping)"
   ]
  },
  {
   "cell_type": "code",
   "execution_count": 22,
   "id": "365d6375",
   "metadata": {},
   "outputs": [
    {
     "name": "stdout",
     "output_type": "stream",
     "text": [
      "mean     71.0\n",
      "sum     142.0\n",
      "min      66.0\n",
      "max      76.0\n",
      "Name: Maths, dtype: float64\n"
     ]
    }
   ],
   "source": [
    "multi_agg = df[\"Maths\"].agg([\"mean\",\"sum\",\"min\",\"max\"])\n",
    "print(multi_agg)"
   ]
  },
  {
   "cell_type": "code",
   "execution_count": 24,
   "id": "ee639875",
   "metadata": {},
   "outputs": [
    {
     "name": "stdout",
     "output_type": "stream",
     "text": [
      "         Maths  Science  English\n",
      "Student                         \n",
      "Bob       66.0      NaN     88.0\n",
      "John      76.0     72.0     78.0\n",
      "Marc       NaN     82.0     98.0\n"
     ]
    }
   ],
   "source": [
    "# Aggregation Challenge\n",
    "# Group karo students ko aur har subject ka average score nikaalo.\n",
    "# Maths scores ka total aur maximum value nikaalo.\n",
    "# Multiple aggregation functions (mean, min, max) Maths par apply karo.\n",
    "# Try kar aur bata agar koi issue aaye! 😊\n",
    "\n",
    "df_avg = df.groupby(\"Student\")[['Maths','Science',\"English\"]].mean()\n",
    "print(df_avg)"
   ]
  },
  {
   "cell_type": "code",
   "execution_count": 26,
   "id": "35b00a35",
   "metadata": {},
   "outputs": [
    {
     "name": "stdout",
     "output_type": "stream",
     "text": [
      "sum    142.0\n",
      "max     76.0\n",
      "Name: Maths, dtype: float64\n"
     ]
    }
   ],
   "source": [
    "df_to = df['Maths'].agg(['sum','max'])\n",
    "print(df_to)"
   ]
  },
  {
   "cell_type": "code",
   "execution_count": 27,
   "id": "e84b292e",
   "metadata": {},
   "outputs": [
    {
     "name": "stdout",
     "output_type": "stream",
     "text": [
      "mean    71.0\n",
      "min     66.0\n",
      "max     76.0\n",
      "Name: Maths, dtype: float64\n"
     ]
    }
   ],
   "source": [
    "df_total = df['Maths'].agg(['mean', 'min', 'max'])\n",
    "print(df_total)"
   ]
  },
  {
   "cell_type": "code",
   "execution_count": 28,
   "id": "432c0ffb",
   "metadata": {},
   "outputs": [
    {
     "name": "stdout",
     "output_type": "stream",
     "text": [
      "0    Low\n",
      "1    Low\n",
      "2    Low\n",
      "Name: Maths, dtype: object\n"
     ]
    }
   ],
   "source": [
    "df_lamb = df['Maths'].apply(lambda x: \"High\" if x > 80 else \"Low\")\n",
    "print(df_lamb)"
   ]
  },
  {
   "cell_type": "code",
   "execution_count": 30,
   "id": "aa9ec4b9",
   "metadata": {},
   "outputs": [
    {
     "name": "stdout",
     "output_type": "stream",
     "text": [
      "  Student  Maths  Science  English\n",
      "0    John     76       72       78\n",
      "1     Bob     66       82       88\n",
      "2    Marc     85       80       89\n",
      "3    Anna     92       88       85\n",
      "4     Eve     58       65       72\n"
     ]
    }
   ],
   "source": [
    "data1 = {\n",
    "    \"Student\": [\"John\", \"Bob\", \"Marc\", \"Anna\", \"Eve\"],\n",
    "    \"Maths\": [76, 66, 85, 92, 58],\n",
    "    \"Science\": [72, 82, 80, 88, 65],\n",
    "    \"English\": [78, 88, 89, 85, 72]\n",
    "}\n",
    "\n",
    "df = pd.DataFrame(data1)\n",
    "print(df)"
   ]
  },
  {
   "cell_type": "code",
   "execution_count": 37,
   "id": "6f385824",
   "metadata": {},
   "outputs": [
    {
     "name": "stdout",
     "output_type": "stream",
     "text": [
      "  Student  Maths  Science  English\n",
      "2    Marc     85       80       89\n",
      "3    Anna     92       88       85\n"
     ]
    },
    {
     "data": {
      "text/html": [
       "<div>\n",
       "<style scoped>\n",
       "    .dataframe tbody tr th:only-of-type {\n",
       "        vertical-align: middle;\n",
       "    }\n",
       "\n",
       "    .dataframe tbody tr th {\n",
       "        vertical-align: top;\n",
       "    }\n",
       "\n",
       "    .dataframe thead th {\n",
       "        text-align: right;\n",
       "    }\n",
       "</style>\n",
       "<table border=\"1\" class=\"dataframe\">\n",
       "  <thead>\n",
       "    <tr style=\"text-align: right;\">\n",
       "      <th></th>\n",
       "      <th>Student</th>\n",
       "      <th>Maths</th>\n",
       "      <th>Science</th>\n",
       "      <th>English</th>\n",
       "      <th>Status</th>\n",
       "    </tr>\n",
       "  </thead>\n",
       "  <tbody>\n",
       "    <tr>\n",
       "      <th>0</th>\n",
       "      <td>John</td>\n",
       "      <td>76</td>\n",
       "      <td>72</td>\n",
       "      <td>78</td>\n",
       "      <td>Low</td>\n",
       "    </tr>\n",
       "    <tr>\n",
       "      <th>1</th>\n",
       "      <td>Bob</td>\n",
       "      <td>66</td>\n",
       "      <td>82</td>\n",
       "      <td>88</td>\n",
       "      <td>Low</td>\n",
       "    </tr>\n",
       "    <tr>\n",
       "      <th>2</th>\n",
       "      <td>Marc</td>\n",
       "      <td>85</td>\n",
       "      <td>80</td>\n",
       "      <td>89</td>\n",
       "      <td>High</td>\n",
       "    </tr>\n",
       "    <tr>\n",
       "      <th>3</th>\n",
       "      <td>Anna</td>\n",
       "      <td>92</td>\n",
       "      <td>88</td>\n",
       "      <td>85</td>\n",
       "      <td>High</td>\n",
       "    </tr>\n",
       "    <tr>\n",
       "      <th>4</th>\n",
       "      <td>Eve</td>\n",
       "      <td>58</td>\n",
       "      <td>65</td>\n",
       "      <td>72</td>\n",
       "      <td>Low</td>\n",
       "    </tr>\n",
       "  </tbody>\n",
       "</table>\n",
       "</div>"
      ],
      "text/plain": [
       "  Student  Maths  Science  English Status\n",
       "0    John     76       72       78    Low\n",
       "1     Bob     66       82       88    Low\n",
       "2    Marc     85       80       89   High\n",
       "3    Anna     92       88       85   High\n",
       "4     Eve     58       65       72    Low"
      ]
     },
     "execution_count": 37,
     "metadata": {},
     "output_type": "execute_result"
    }
   ],
   "source": [
    "# Perform Sorting.\n",
    "# Filter Students with Maths > 80.\n",
    "# Add \"Status\" column based on Maths marks.\n",
    "sortie = df.sort_values(by='Maths', ascending=False)\n",
    "sortie\n",
    "\n",
    "great = df[df['Maths'] > 80]\n",
    "print(great)\n",
    "\n",
    "df['Status'] = df['Maths'].apply(lambda x: \"High\" if x > 80 else \"Low\")\n",
    "df"
   ]
  },
  {
   "cell_type": "code",
   "execution_count": null,
   "id": "bf9aa395",
   "metadata": {},
   "outputs": [],
   "source": []
  },
  {
   "cell_type": "code",
   "execution_count": null,
   "id": "ef528c98",
   "metadata": {},
   "outputs": [],
   "source": []
  },
  {
   "cell_type": "code",
   "execution_count": null,
   "id": "9556a9b2",
   "metadata": {},
   "outputs": [],
   "source": []
  },
  {
   "cell_type": "code",
   "execution_count": null,
   "id": "1e46c1fe",
   "metadata": {},
   "outputs": [],
   "source": []
  },
  {
   "cell_type": "code",
   "execution_count": null,
   "id": "af1d9544",
   "metadata": {},
   "outputs": [],
   "source": []
  },
  {
   "cell_type": "code",
   "execution_count": null,
   "id": "85e9f096",
   "metadata": {},
   "outputs": [],
   "source": []
  },
  {
   "cell_type": "code",
   "execution_count": null,
   "id": "2d7f18fa",
   "metadata": {},
   "outputs": [],
   "source": []
  },
  {
   "cell_type": "code",
   "execution_count": null,
   "id": "cd18ef0e",
   "metadata": {},
   "outputs": [],
   "source": []
  },
  {
   "cell_type": "code",
   "execution_count": null,
   "id": "edafb001",
   "metadata": {},
   "outputs": [],
   "source": []
  },
  {
   "cell_type": "code",
   "execution_count": null,
   "id": "e5f63bd9",
   "metadata": {},
   "outputs": [],
   "source": []
  },
  {
   "cell_type": "code",
   "execution_count": null,
   "id": "c71ac13f",
   "metadata": {},
   "outputs": [],
   "source": []
  }
 ],
 "metadata": {
  "kernelspec": {
   "display_name": "Python 3 (ipykernel)",
   "language": "python",
   "name": "python3"
  },
  "language_info": {
   "codemirror_mode": {
    "name": "ipython",
    "version": 3
   },
   "file_extension": ".py",
   "mimetype": "text/x-python",
   "name": "python",
   "nbconvert_exporter": "python",
   "pygments_lexer": "ipython3",
   "version": "3.11.5"
  }
 },
 "nbformat": 4,
 "nbformat_minor": 5
}
